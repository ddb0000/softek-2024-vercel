{
 "cells": [
  {
   "cell_type": "code",
   "execution_count": 2,
   "metadata": {},
   "outputs": [],
   "source": [
    "import pandas as pd\n",
    "from itertools import cycle\n",
    "import os"
   ]
  },
  {
   "cell_type": "code",
   "execution_count": 3,
   "metadata": {},
   "outputs": [],
   "source": [
    "caminho = os.path.join('..', '..', 'db_softtek') \n",
    "path_arq = os.path.abspath(caminho) \n",
    "tbl_ = '\\\\modelo\\\\Modelo_score_train.xlsx'"
   ]
  },
  {
   "cell_type": "code",
   "execution_count": 4,
   "metadata": {},
   "outputs": [],
   "source": [
    "#Tabela de treino:\n",
    "tbl_train = pd.read_excel(path_arq+tbl_)\n",
    "analistas_df = tbl_train"
   ]
  },
  {
   "cell_type": "code",
   "execution_count": 5,
   "metadata": {},
   "outputs": [],
   "source": [
    "#tabela novas demandas:\n",
    "\n",
    "tbl_test = pd.read_excel(path_arq+'\\\\cubo_anl\\\\tbl_full_analitica.xlsx')\n",
    "novos_chamados_df = tbl_test[['CHAMADO','DT_ABERTURA_CHAMADO','TIPO_CHAMADO','MODULO_CHAMADO','COMPLEXIDADE']].drop_duplicates(keep='first')"
   ]
  },
  {
   "cell_type": "code",
   "execution_count": 6,
   "metadata": {},
   "outputs": [],
   "source": [
    "# Agrupar analistas por módulo e ordenar por rank\n",
    "analistas_por_modulo = analistas_df.sort_values(by=['MODULO_CHAMADO', 'rank']).groupby('MODULO_CHAMADO')\n",
    "\n",
    "# Criar iteradores rotativos para cada módulo\n",
    "iteradores = {modulo: cycle(grupo['IS'].tolist()) for modulo, grupo in analistas_por_modulo}\n",
    "\n",
    "# Função para distribuir chamados\n",
    "def distribuir_chamados(novos_chamados_df, iteradores):\n",
    "    alocacao = []\n",
    "    for _, chamado in novos_chamados_df.iterrows():\n",
    "        modulo = chamado['MODULO_CHAMADO']\n",
    "        if modulo in iteradores:\n",
    "            analista = next(iteradores[modulo])\n",
    "            alocacao.append(analista)\n",
    "        else:\n",
    "            alocacao.append(None)  # Caso não haja analistas para o módulo\n",
    "    return alocacao\n",
    "\n",
    "# Distribuir os novos chamados\n",
    "novos_chamados_df['IS'] = distribuir_chamados(novos_chamados_df[['TIPO_CHAMADO','MODULO_CHAMADO','COMPLEXIDADE']], iteradores)\n",
    "\n",
    "# Exibir a distribuição\n",
    "novos_chamados_df.sort_values(['TIPO_CHAMADO','MODULO_CHAMADO']).ffill()\n",
    "novos_chamados_df['ANOMES_ABERTURA'] = novos_chamados_df['DT_ABERTURA_CHAMADO'].str[0:4] + novos_chamados_df['DT_ABERTURA_CHAMADO'].str[5:7]\n",
    "\n",
    "\n",
    "# Criando Pivot Table para os gráficos:\n",
    "\n",
    "pivot_REDIST = novos_chamados_df.pivot_table(\n",
    "    index='ANOMES_ABERTURA',\n",
    "    columns='COMPLEXIDADE',\n",
    "    values='CHAMADO',\n",
    "    aggfunc='count'\n",
    ").reset_index().fillna(0)\n",
    "\n",
    "pivot_REDIST.columns.name = None\n",
    "\n",
    "pivot_REDIST = pivot_REDIST[pivot_REDIST['ANOMES_ABERTURA'] >= '202401']\n",
    "pivot_REDIST"
   ]
  },
  {
   "cell_type": "code",
   "execution_count": 15,
   "metadata": {},
   "outputs": [],
   "source": [
    "# Faz o Export para acompanhar indicador:\n",
    "\n",
    "pivot_REDIST.to_excel(path_arq+'\\\\modelo\\\\alocacao_recursos.xlsx', index=False)\n",
    "\n",
    "pivot_REDIST.reset_index().drop(columns='index').to_json(path_arq+'\\\\modelo\\\\cubo3_alocacao_recursos.json', orient='records', indent=4)"
   ]
  },
  {
   "cell_type": "code",
   "execution_count": null,
   "metadata": {},
   "outputs": [],
   "source": [
    "# Separa a quantidade e tipo de chamados por consultor e envia para eles um alerta por email:\n",
    "\n",
    "Chamados_por_consultor = novos_chamados_df.groupby(['IS']).agg({\n",
    "    'CHAMADO': 'count',\n",
    "    'TIPO_CHAMADO': lambda x: '|'.join(set(x))\n",
    "}).reset_index()\n",
    "\n",
    "\n",
    "import win32com.client as win32\n",
    "import os\n",
    "# Criar instância do Outlook\n",
    "outlook = win32.Dispatch('outlook.application')\n",
    "\n",
    "# Iterar sobre cada funcionário no DataFrame agrupado\n",
    "for index, row in Chamados_por_consultor.iterrows():\n",
    "    funcionario = row['IS']\n",
    "    qtd_chamados = row['CHAMADO']\n",
    "    tipos_chamados = row['TIPO_CHAMADO']\n",
    "\n",
    "    try:\n",
    "        # Criar um novo e-mail\n",
    "        mail = outlook.CreateItem(0)\n",
    "        \n",
    "        # Definir o e-mail do funcionário (ajuste conforme necessário)\n",
    "        mail.To = f'{funcionario}@softtek.com.br'\n",
    "\n",
    "        # Assunto do e-mail\n",
    "        mail.Subject = f'Atenção! Você está com {qtd_chamados} chamados para tratamento!'\n",
    "\n",
    "        # Corpo do e-mail\n",
    "        mail.Body = f\"\"\"\n",
    "        Olá {funcionario},\n",
    "\n",
    "        Você tem {qtd_chamados} chamado(s) pendente(s). Os tipos de chamados são os seguintes:\n",
    "\n",
    "        {tipos_chamados.replace('|', '\\n- ')}\n",
    "\n",
    "        Por favor, verifique e tome as medidas necessárias.\n",
    "\n",
    "        Atenciosamente,\n",
    "        Gestão\n",
    "\n",
    "        \"\"\"\n",
    "\n",
    "        # Enviar o e-mail\n",
    "        mail.Send()\n",
    "\n",
    "    except Exception as e:\n",
    "        print(f'Falha ao enviar e-mail para {funcionario}@softtek.com.br Erro: {str(e)}')\n",
    "\n",
    "print('E-mails enviados com sucesso!')"
   ]
  }
 ],
 "metadata": {
  "kernelspec": {
   "display_name": "Python 3",
   "language": "python",
   "name": "python3"
  },
  "language_info": {
   "codemirror_mode": {
    "name": "ipython",
    "version": 3
   },
   "file_extension": ".py",
   "mimetype": "text/x-python",
   "name": "python",
   "nbconvert_exporter": "python",
   "pygments_lexer": "ipython3",
   "version": "3.12.2"
  }
 },
 "nbformat": 4,
 "nbformat_minor": 2
}
