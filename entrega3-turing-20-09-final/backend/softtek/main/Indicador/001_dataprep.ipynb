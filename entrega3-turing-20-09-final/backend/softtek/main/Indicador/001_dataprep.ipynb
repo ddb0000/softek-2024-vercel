{
 "cells": [
  {
   "cell_type": "code",
   "execution_count": 1,
   "metadata": {
    "execution": {
     "iopub.execute_input": "2024-09-19T20:12:42.620972Z",
     "iopub.status.busy": "2024-09-19T20:12:42.619643Z",
     "iopub.status.idle": "2024-09-19T20:12:42.910629Z",
     "shell.execute_reply": "2024-09-19T20:12:42.910045Z"
    }
   },
   "outputs": [],
   "source": [
    "import pandas as pd\n",
    "import os"
   ]
  },
  {
   "cell_type": "code",
   "execution_count": 2,
   "metadata": {
    "execution": {
     "iopub.execute_input": "2024-09-19T20:12:42.913359Z",
     "iopub.status.busy": "2024-09-19T20:12:42.912953Z",
     "iopub.status.idle": "2024-09-19T20:12:42.915973Z",
     "shell.execute_reply": "2024-09-19T20:12:42.915399Z"
    }
   },
   "outputs": [],
   "source": [
    "caminho = os.path.join('..', '..', 'db_softtek') \n",
    "path_arq = os.path.abspath(caminho)"
   ]
  },
  {
   "cell_type": "code",
   "execution_count": 3,
   "metadata": {
    "execution": {
     "iopub.execute_input": "2024-09-19T20:12:42.918333Z",
     "iopub.status.busy": "2024-09-19T20:12:42.917960Z",
     "iopub.status.idle": "2024-09-19T20:12:42.920768Z",
     "shell.execute_reply": "2024-09-19T20:12:42.920179Z"
    }
   },
   "outputs": [],
   "source": [
    "db_orig = '/FIAP_DataBase_v1.xlsx'  # Substitua pelo nome do seu arquivo\n"
   ]
  },
  {
   "cell_type": "code",
   "execution_count": 4,
   "metadata": {
    "execution": {
     "iopub.execute_input": "2024-09-19T20:12:42.923139Z",
     "iopub.status.busy": "2024-09-19T20:12:42.922692Z",
     "iopub.status.idle": "2024-09-19T20:12:43.340956Z",
     "shell.execute_reply": "2024-09-19T20:12:43.340338Z"
    }
   },
   "outputs": [],
   "source": [
    "# Carrega tabela de demandas:\n",
    "tbl_demandas = pd.read_excel(path_arq+db_orig, 'DEMANDAS').drop_duplicates()\n",
    "\n",
    "# Carrega tabela de Contratos:\n",
    "tbl_contr = pd.read_excel(path_arq+db_orig, 'CONTRATOS').drop_duplicates()\n",
    "\n",
    "# Carrega tabela de Custos:\n",
    "tbl_custos = pd.read_excel(path_arq+db_orig, 'CUSTOS').drop_duplicates()\n",
    "tbl_custos = tbl_custos.groupby(['EXERCICIO','PERIODO','CODIGO_AT']).agg({'VALOR_AT':'mean'}).reset_index()\n",
    "\n",
    "# Carrega tabela de Equipe:\n",
    "tbl_equipe = pd.read_excel(path_arq+db_orig, 'EQUIPE').drop_duplicates()\n"
   ]
  },
  {
   "cell_type": "code",
   "execution_count": 5,
   "metadata": {
    "execution": {
     "iopub.execute_input": "2024-09-19T20:12:43.343409Z",
     "iopub.status.busy": "2024-09-19T20:12:43.343214Z",
     "iopub.status.idle": "2024-09-19T20:12:43.358980Z",
     "shell.execute_reply": "2024-09-19T20:12:43.358441Z"
    }
   },
   "outputs": [],
   "source": [
    "#Demandas x Equipe:\n",
    "\n",
    "tbl_1 = pd.merge(tbl_demandas, tbl_equipe, how ='left', on = 'IS').fillna(0).drop_duplicates()\n",
    "\n",
    "# view1 x Custos:\n",
    "tbl_2  = pd.merge(tbl_1, tbl_custos, how ='left', on = ['EXERCICIO','PERIODO','CODIGO_AT']).drop_duplicates()"
   ]
  },
  {
   "cell_type": "code",
   "execution_count": null,
   "metadata": {
    "execution": {
     "iopub.execute_input": "2024-09-19T20:12:43.361400Z",
     "iopub.status.busy": "2024-09-19T20:12:43.360967Z",
     "iopub.status.idle": "2024-09-19T20:12:43.489307Z",
     "shell.execute_reply": "2024-09-19T20:12:43.488265Z"
    }
   },
   "outputs": [],
   "source": [
    "#Cruzamento por tbl_2 x contratos:\n",
    "\n",
    "tbl_3  = pd.merge(tbl_2, tbl_contr, how ='left', left_on = ['PROJETO'],\n",
    "                  right_on=['PROJETO'])\n",
    "\n",
    "\n",
    "# Tirando duplicatas por contains de tipo chamado x tipo_demanda:\n",
    "\n",
    "tbl_3['esta_contido'] = ''\n",
    "for index, row in tbl_3.iterrows():\n",
    "    if row['TIPO_CHAMADO'] in row['TIPO_DEMANDA']:\n",
    "        tbl_3.at[index, 'esta_contido'] = 'Sim'\n",
    "\n",
    "tbl_3 = tbl_3[tbl_3['esta_contido'] =='Sim'].reset_index().drop(columns=['index','esta_contido']).fillna(0)\n",
    "\n",
    "tbl_3.describe()"
   ]
  },
  {
   "cell_type": "code",
   "execution_count": null,
   "metadata": {
    "execution": {
     "iopub.execute_input": "2024-09-19T20:12:43.527654Z",
     "iopub.status.busy": "2024-09-19T20:12:43.527271Z",
     "iopub.status.idle": "2024-09-19T20:12:43.541715Z",
     "shell.execute_reply": "2024-09-19T20:12:43.541039Z"
    }
   },
   "outputs": [],
   "source": [
    "tbl_3.head()"
   ]
  },
  {
   "cell_type": "code",
   "execution_count": 8,
   "metadata": {
    "execution": {
     "iopub.execute_input": "2024-09-19T20:12:43.543810Z",
     "iopub.status.busy": "2024-09-19T20:12:43.543622Z",
     "iopub.status.idle": "2024-09-19T20:12:44.593263Z",
     "shell.execute_reply": "2024-09-19T20:12:44.592524Z"
    }
   },
   "outputs": [],
   "source": [
    "output_folder = os.path.join(path_arq, 'cubo_anl')\n",
    "os.makedirs(output_folder, exist_ok=True)\n",
    "\n",
    "output_file = os.path.join(output_folder, 'tbl_full_analitica.xlsx')\n",
    "\n",
    "#Saida primeira Tabela, analitica Full:\n",
    "\n",
    "tbl_3.to_excel(output_file, index=False)"
   ]
  }
 ],
 "metadata": {
  "kernelspec": {
   "display_name": "Python 3",
   "language": "python",
   "name": "python3"
  },
  "language_info": {
   "codemirror_mode": {
    "name": "ipython",
    "version": 3
   },
   "file_extension": ".py",
   "mimetype": "text/x-python",
   "name": "python",
   "nbconvert_exporter": "python",
   "pygments_lexer": "ipython3",
   "version": "3.12.1"
  }
 },
 "nbformat": 4,
 "nbformat_minor": 2
}
