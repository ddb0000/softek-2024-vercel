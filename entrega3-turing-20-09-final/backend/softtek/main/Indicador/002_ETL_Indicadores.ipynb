{
 "cells": [
  {
   "cell_type": "code",
   "execution_count": 1,
   "metadata": {
    "execution": {
     "iopub.execute_input": "2024-09-19T20:12:47.267510Z",
     "iopub.status.busy": "2024-09-19T20:12:47.267042Z",
     "iopub.status.idle": "2024-09-19T20:12:47.525991Z",
     "shell.execute_reply": "2024-09-19T20:12:47.525415Z"
    }
   },
   "outputs": [],
   "source": [
    "import pandas as pd\n",
    "import os"
   ]
  },
  {
   "cell_type": "code",
   "execution_count": 2,
   "metadata": {
    "execution": {
     "iopub.execute_input": "2024-09-19T20:12:47.528744Z",
     "iopub.status.busy": "2024-09-19T20:12:47.528299Z",
     "iopub.status.idle": "2024-09-19T20:12:47.531552Z",
     "shell.execute_reply": "2024-09-19T20:12:47.530956Z"
    }
   },
   "outputs": [],
   "source": [
    "caminho = os.path.join('..', '..', 'db_softtek')\n",
    "path_arq = os.path.abspath(caminho)\n",
    "\n",
    "db_analitico = os.path.join(path_arq, 'cubo_anl', 'tbl_full_analitica.xlsx')\n"
   ]
  },
  {
   "cell_type": "code",
   "execution_count": 3,
   "metadata": {
    "execution": {
     "iopub.execute_input": "2024-09-19T20:12:47.533826Z",
     "iopub.status.busy": "2024-09-19T20:12:47.533540Z",
     "iopub.status.idle": "2024-09-19T20:12:48.228101Z",
     "shell.execute_reply": "2024-09-19T20:12:48.227407Z"
    }
   },
   "outputs": [],
   "source": [
    "# Load\n",
    "tbl_anl = pd.read_excel(db_analitico, dtype='string').drop_duplicates()\n"
   ]
  },
  {
   "cell_type": "code",
   "execution_count": 4,
   "metadata": {
    "execution": {
     "iopub.execute_input": "2024-09-19T20:12:48.230768Z",
     "iopub.status.busy": "2024-09-19T20:12:48.230389Z",
     "iopub.status.idle": "2024-09-19T20:12:48.234958Z",
     "shell.execute_reply": "2024-09-19T20:12:48.234325Z"
    }
   },
   "outputs": [],
   "source": [
    "#funções genéricas:\n",
    "\n",
    "\n",
    "#Função anomes:\n",
    "def calcul_anomes(df,campo_data):\n",
    "    if campo_data == 'DT_ABERTURA_CHAMADO':\n",
    "        nova_coluna = 'ANOMES_ABERTURA'\n",
    "        df[nova_coluna] = df['DT_ABERTURA_CHAMADO'].astype(str).str[0:4] + df['DT_ABERTURA_CHAMADO'].astype(str).str[5:7]\n",
    "    else:\n",
    "        nova_coluna = 'ANOMES_STATUS'\n",
    "        df[nova_coluna] = df['DT_STATUS_CHAMADO'].astype(str).str[0:4] + df['DT_STATUS_CHAMADO'].astype(str).str[5:7]\n",
    "\n",
    "    return df\n",
    "\n",
    "#Função calculo Leadtime de atendimento:\n",
    "def coluna_leadtime(dias):\n",
    "    if dias == '0 days':\n",
    "        return 'D0'\n",
    "    if dias == '1 days':\n",
    "        return 'D1'\n",
    "    elif dias == '2 days':\n",
    "        return 'D2'\n",
    "    elif dias == '3 days':\n",
    "        return 'D3'\n",
    "    elif dias == '4 days':\n",
    "        return 'D4'\n",
    "    else:\n",
    "        return 'D5+'"
   ]
  },
  {
   "cell_type": "code",
   "execution_count": 5,
   "metadata": {
    "execution": {
     "iopub.execute_input": "2024-09-19T20:12:48.237382Z",
     "iopub.status.busy": "2024-09-19T20:12:48.237008Z",
     "iopub.status.idle": "2024-09-19T20:12:48.265552Z",
     "shell.execute_reply": "2024-09-19T20:12:48.264994Z"
    }
   },
   "outputs": [],
   "source": [
    "#Campo de data abertura do chamado:\n",
    "tbl_anl['DT_ABERTURA_CHAMADO'] = tbl_anl['DT_ABERTURA_CHAMADO'].astype('datetime64[ns]').dt.strftime(\"%Y-%m-%d\")\n",
    "\n",
    "#Campo de data status do Chamado:\n",
    "\n",
    "tbl_anl['DT_STATUS_CHAMADO'] = tbl_anl['EXERCICIO']+\"-\"+tbl_anl['PERIODO'].str.zfill(2)+\"-\"+tbl_anl['DIA'].str.zfill(2)\n",
    "tbl_anl['DT_STATUS_CHAMADO'] = tbl_anl['DT_STATUS_CHAMADO'].astype('datetime64[ns]').dt.strftime(\"%Y-%m-%d\")\n",
    "\n",
    "\n",
    "# Calcula anomes \n",
    "tbl_anl = calcul_anomes(tbl_anl,'DT_ABERTURA_CHAMADO')\n",
    "tbl_anl = calcul_anomes(tbl_anl,'DT_STATUS_CHAMADO')\n",
    "tbl_anl = tbl_anl.sort_values(['CHAMADO','DT_ABERTURA_CHAMADO','DT_STATUS_CHAMADO'])\n",
    "\n",
    "# Criando campos de LeadTime:\n",
    "tbl_anl['LEADTIME_CHAMADO'] = tbl_anl['DT_STATUS_CHAMADO'].astype('datetime64[ns]') - tbl_anl['DT_ABERTURA_CHAMADO'].astype('datetime64[ns]')\n",
    "tbl_anl['LEADTIME_CALCULADO'] = tbl_anl['LEADTIME_CHAMADO'].astype(str).apply(coluna_leadtime)\n"
   ]
  },
  {
   "cell_type": "code",
   "execution_count": null,
   "metadata": {
    "execution": {
     "iopub.execute_input": "2024-09-19T20:12:48.267660Z",
     "iopub.status.busy": "2024-09-19T20:12:48.267472Z",
     "iopub.status.idle": "2024-09-19T20:12:48.286433Z",
     "shell.execute_reply": "2024-09-19T20:12:48.285854Z"
    }
   },
   "outputs": [],
   "source": [
    "# Indicador de volume de demandas distintas:\n",
    "tbl_anl_abert = tbl_anl.drop_duplicates(subset=['CHAMADO','DIA','CONSULTOR'], keep='first')\n",
    "tbl_anl_abert = tbl_anl[['ANOMES_ABERTURA','SENIORIDADE','MODULO_CustosNSULTOR','CHAMADO']].groupby(['ANOMES_ABERTURA','SENIORIDADE','MODULO_CustosNSULTOR']).agg({'CHAMADO':'count'}).reset_index()\n",
    "tbl_anl_abert['INDICADOR'] = 'ABERTURAS'\n",
    "\n",
    "tbl_anl_abert.rename(columns={'MODULO_CustosNSULTOR':'ATRIBUTO','ANOMES_ABERTURA':'ANOMES_REF',\n",
    "                              'SENIORIDADE':'ATRIBUTO2'}, inplace=True)\n",
    "\n",
    "\n",
    "tbl_anl_abert.head(5)"
   ]
  },
  {
   "cell_type": "code",
   "execution_count": null,
   "metadata": {
    "execution": {
     "iopub.execute_input": "2024-09-19T20:12:48.323629Z",
     "iopub.status.busy": "2024-09-19T20:12:48.323171Z",
     "iopub.status.idle": "2024-09-19T20:12:48.340146Z",
     "shell.execute_reply": "2024-09-19T20:12:48.339543Z"
    }
   },
   "outputs": [],
   "source": [
    "# Criando base de quantidade de chamados pendentes: \n",
    "\n",
    "tbl_anl = tbl_anl.drop_duplicates(subset=['CHAMADO','DIA','CONSULTOR'], keep='last')\n",
    "\n",
    "tbl_anl_pendentes = tbl_anl[tbl_anl['STATUS_CHAMADO'] !='Closed']\n",
    "tbl_anl_pendentes = tbl_anl_pendentes[['ANOMES_ABERTURA','SENIORIDADE','COMPLEXIDADE','CHAMADO']].groupby(['ANOMES_ABERTURA','SENIORIDADE','COMPLEXIDADE']).agg({'CHAMADO':'count'}).reset_index()\n",
    "tbl_anl_pendentes['INDICADOR'] = 'PENDENTE'\n",
    "tbl_anl_pendentes.rename(columns={'COMPLEXIDADE':'ATRIBUTO','ANOMES_ABERTURA':'ANOMES_REF',\n",
    "                              'SENIORIDADE':'ATRIBUTO2'}, inplace=True)\n",
    "tbl_anl_pendentes.head(5)"
   ]
  },
  {
   "cell_type": "code",
   "execution_count": null,
   "metadata": {
    "execution": {
     "iopub.execute_input": "2024-09-19T20:12:48.342236Z",
     "iopub.status.busy": "2024-09-19T20:12:48.342050Z",
     "iopub.status.idle": "2024-09-19T20:12:48.355408Z",
     "shell.execute_reply": "2024-09-19T20:12:48.354805Z"
    }
   },
   "outputs": [],
   "source": [
    "# Criando base de quantidade de chamados encerrados: \n",
    "\n",
    "tbl_anl_encerr = tbl_anl[tbl_anl['STATUS_CHAMADO'] =='Closed']\n",
    "tbl_anl_encerr = tbl_anl_encerr[['ANOMES_STATUS','SENIORIDADE','MODULO_CustosNSULTOR','CHAMADO']].groupby(['ANOMES_STATUS','SENIORIDADE','MODULO_CustosNSULTOR']).agg({'CHAMADO':'count'}).reset_index()\n",
    "tbl_anl_encerr['INDICADOR'] = 'ENCERRAMENTO'\n",
    "tbl_anl_encerr.rename(columns={'MODULO_CustosNSULTOR':'ATRIBUTO','ANOMES_STATUS':'ANOMES_REF',\n",
    "                              'SENIORIDADE':'ATRIBUTO2'}, inplace=True)\n",
    "tbl_anl_encerr.head(5)"
   ]
  },
  {
   "cell_type": "code",
   "execution_count": null,
   "metadata": {
    "execution": {
     "iopub.execute_input": "2024-09-19T20:12:48.357838Z",
     "iopub.status.busy": "2024-09-19T20:12:48.357392Z",
     "iopub.status.idle": "2024-09-19T20:12:48.375372Z",
     "shell.execute_reply": "2024-09-19T20:12:48.374745Z"
    }
   },
   "outputs": [],
   "source": [
    "# Criando base de encerrados e o respectivo Leadtime: \n",
    "\n",
    "tbl_anl_long = tbl_anl[tbl_anl['STATUS_CHAMADO'] =='Closed']\n",
    "tbl_anl_long = tbl_anl_long[['ANOMES_STATUS','LEADTIME_CALCULADO','MODULO_CustosNSULTOR','CHAMADO']].groupby(['ANOMES_STATUS','LEADTIME_CALCULADO','MODULO_CustosNSULTOR']).agg({'CHAMADO':'count'}).reset_index()\n",
    "tbl_anl_long['INDICADOR'] = 'LEADTIME'\n",
    "tbl_anl_long.rename(columns={'MODULO_CustosNSULTOR':'ATRIBUTO','ANOMES_STATUS':'ANOMES_REF',\n",
    "                              'LEADTIME_CALCULADO':'ATRIBUTO2'}, inplace=True)\n",
    "tbl_anl_long.head(50)"
   ]
  },
  {
   "cell_type": "code",
   "execution_count": null,
   "metadata": {
    "execution": {
     "iopub.execute_input": "2024-09-19T20:12:48.377738Z",
     "iopub.status.busy": "2024-09-19T20:12:48.377361Z",
     "iopub.status.idle": "2024-09-19T20:12:48.392710Z",
     "shell.execute_reply": "2024-09-19T20:12:48.392140Z"
    }
   },
   "outputs": [],
   "source": [
    "# Criando base de quantidade de complexidade por senioridades: \n",
    "\n",
    "tbl_anl_complex = tbl_anl[tbl_anl['STATUS_CHAMADO'] =='Closed']\n",
    "tbl_anl_complex = tbl_anl_complex[['ANOMES_STATUS','SENIORIDADE','COMPLEXIDADE','CHAMADO']].groupby(['ANOMES_STATUS','SENIORIDADE','COMPLEXIDADE']).agg({'CHAMADO':'count'}).reset_index()\n",
    "tbl_anl_complex['INDICADOR'] = 'COMPLEXIDADE_VOL'\n",
    "tbl_anl_complex.rename(columns={'COMPLEXIDADE':'ATRIBUTO','ANOMES_STATUS':'ANOMES_REF',\n",
    "                              'SENIORIDADE':'ATRIBUTO2'}, inplace=True)\n",
    "tbl_anl_complex.head(5)"
   ]
  },
  {
   "cell_type": "code",
   "execution_count": null,
   "metadata": {
    "execution": {
     "iopub.execute_input": "2024-09-19T20:12:48.394803Z",
     "iopub.status.busy": "2024-09-19T20:12:48.394612Z",
     "iopub.status.idle": "2024-09-19T20:12:48.412732Z",
     "shell.execute_reply": "2024-09-19T20:12:48.412144Z"
    }
   },
   "outputs": [],
   "source": [
    "# Criando base de quantidade de encerrados por senioridade: \n",
    "\n",
    "tbl_anl_cargo_VOL = tbl_anl[['ANOMES_STATUS','SENIORIDADE','CHAMADO','MODULO_CustosNSULTOR']].groupby(['ANOMES_STATUS','SENIORIDADE','MODULO_CustosNSULTOR']).agg({'CHAMADO':'count'}).reset_index()\n",
    "tbl_anl_cargo_VOL.rename(columns={'MODULO_CustosNSULTOR':'ATRIBUTO','ANOMES_STATUS':'ANOMES_REF',\n",
    "                              'LEADTIME_CALCULADO':'ATRIBUTO2'}, inplace=True)\n",
    "tbl_anl_cargo_VOL['INDICADOR'] = 'VOLUMETRIA CARGO'\n",
    "\n",
    "\n",
    "tbl_anl_cargo_tma = tbl_anl[['ANOMES_STATUS','SENIORIDADE','COMPLEXIDADE','HORAS','VALOR_AT','CONSULTOR']].drop_duplicates()\n",
    "tbl_anl_cargo_tma['HORAS'] = round(tbl_anl_cargo_tma['HORAS'].astype('float'),2)\n",
    "tbl_anl_cargo_tma['VALOR_AT'] = round(tbl_anl_cargo_tma['VALOR_AT'].astype('float'),2)\n",
    "\n",
    "tbl_anl_cargo_tma = tbl_anl_cargo_tma.groupby(['ANOMES_STATUS','SENIORIDADE','COMPLEXIDADE']).agg({'HORAS':'mean', 'VALOR_AT':'mean'}).reset_index()\n",
    "tbl_anl_cargo_tma.head(5)"
   ]
  },
  {
   "cell_type": "code",
   "execution_count": 12,
   "metadata": {
    "execution": {
     "iopub.execute_input": "2024-09-19T20:12:48.414822Z",
     "iopub.status.busy": "2024-09-19T20:12:48.414636Z",
     "iopub.status.idle": "2024-09-19T20:12:48.419733Z",
     "shell.execute_reply": "2024-09-19T20:12:48.419142Z"
    }
   },
   "outputs": [],
   "source": [
    "#concatenando todos os dados em um cubo único chamado cubo_1:\n",
    "\n",
    "cubo_1 = pd.concat([tbl_anl_abert,tbl_anl_encerr,tbl_anl_long,tbl_anl_pendentes,tbl_anl_complex,tbl_anl_cargo_VOL], axis=0)"
   ]
  },
  {
   "cell_type": "code",
   "execution_count": 13,
   "metadata": {
    "execution": {
     "iopub.execute_input": "2024-09-19T20:12:48.421824Z",
     "iopub.status.busy": "2024-09-19T20:12:48.421640Z",
     "iopub.status.idle": "2024-09-19T20:12:48.430572Z",
     "shell.execute_reply": "2024-09-19T20:12:48.429982Z"
    }
   },
   "outputs": [],
   "source": [
    "#Indicador de Aberturas x Encerramentos:\n",
    "\n",
    "abr_x_encerr = pd.merge(\n",
    "                tbl_anl_abert.groupby(['ANOMES_REF']).agg({'CHAMADO':'sum'}).reset_index().rename(columns={'CHAMADO':'ABERTURAS'}),\n",
    "                tbl_anl_encerr.groupby(['ANOMES_REF']).agg({'CHAMADO':'sum'}).reset_index().rename(columns={'CHAMADO':'ENCERRADOS'})\n",
    ", how = 'left', on = 'ANOMES_REF').fillna(0)\n",
    "\n",
    "abr_x_encerr['% Aberturas x Encerrados'] = round((abr_x_encerr['ENCERRADOS'] / abr_x_encerr['ABERTURAS']) * 100, 2)\n",
    "abr_x_encerr = abr_x_encerr[abr_x_encerr['ANOMES_REF'] >= '202401']\n",
    "\n"
   ]
  },
  {
   "cell_type": "code",
   "execution_count": null,
   "metadata": {
    "execution": {
     "iopub.execute_input": "2024-09-19T20:12:48.432733Z",
     "iopub.status.busy": "2024-09-19T20:12:48.432543Z",
     "iopub.status.idle": "2024-09-19T20:12:48.443893Z",
     "shell.execute_reply": "2024-09-19T20:12:48.443293Z"
    }
   },
   "outputs": [],
   "source": [
    "#Indicador de Volume de ocorrências x Complexidade:\n",
    "\n",
    "pivot_complex = tbl_anl_complex[tbl_anl_complex['INDICADOR'] == 'COMPLEXIDADE_VOL'].pivot_table(\n",
    "    index='ANOMES_REF',\n",
    "    columns='ATRIBUTO',\n",
    "    values='CHAMADO',\n",
    "    aggfunc='sum'\n",
    ").reset_index()\n",
    "pivot_complex.columns.name = None\n",
    "\n",
    "pivot_complex"
   ]
  },
  {
   "cell_type": "code",
   "execution_count": null,
   "metadata": {
    "execution": {
     "iopub.execute_input": "2024-09-19T20:12:48.446100Z",
     "iopub.status.busy": "2024-09-19T20:12:48.445795Z",
     "iopub.status.idle": "2024-09-19T20:12:48.459310Z",
     "shell.execute_reply": "2024-09-19T20:12:48.458723Z"
    }
   },
   "outputs": [],
   "source": [
    "#Indicador de Volume de Senioridade x Custo médio em R$:\n",
    "\n",
    "pivot_ctm = tbl_anl_cargo_tma.pivot_table(\n",
    "    index='ANOMES_STATUS',\n",
    "    columns='SENIORIDADE',\n",
    "    values='VALOR_AT',\n",
    "    aggfunc='mean'\n",
    ").reset_index()\n",
    "pivot_ctm.columns.name = None\n",
    "\n",
    "pivot_ctm"
   ]
  },
  {
   "cell_type": "code",
   "execution_count": null,
   "metadata": {
    "execution": {
     "iopub.execute_input": "2024-09-19T20:12:48.461771Z",
     "iopub.status.busy": "2024-09-19T20:12:48.461560Z",
     "iopub.status.idle": "2024-09-19T20:12:48.475463Z",
     "shell.execute_reply": "2024-09-19T20:12:48.474802Z"
    }
   },
   "outputs": [],
   "source": [
    "#Indicador de Volume de Senioridade x Encerramentos:\n",
    "\n",
    "pivot_enc_sen = cubo_1[cubo_1['INDICADOR'] == 'VOLUMETRIA CARGO'].pivot_table(\n",
    "    index='ANOMES_REF',\n",
    "    columns='SENIORIDADE',\n",
    "    values='CHAMADO',\n",
    "    aggfunc='sum'\n",
    ").reset_index()\n",
    "\n",
    "pivot_enc_sen.columns.name = None\n",
    "\n",
    "pivot_enc_sen"
   ]
  },
  {
   "cell_type": "code",
   "execution_count": null,
   "metadata": {
    "execution": {
     "iopub.execute_input": "2024-09-19T20:12:48.479286Z",
     "iopub.status.busy": "2024-09-19T20:12:48.478079Z",
     "iopub.status.idle": "2024-09-19T20:12:48.493037Z",
     "shell.execute_reply": "2024-09-19T20:12:48.492445Z"
    }
   },
   "outputs": [],
   "source": [
    "#Indicador de LEADTIME de encerrados mes a mes:\n",
    "\n",
    "pivot_LEAD = cubo_1[cubo_1['INDICADOR'] == 'LEADTIME'].pivot_table(\n",
    "    index='ANOMES_REF',\n",
    "    columns='ATRIBUTO2',\n",
    "    values='CHAMADO',\n",
    "    aggfunc='sum'\n",
    ").reset_index()\n",
    "\n",
    "pivot_LEAD.columns.name = None\n",
    "\n",
    "pivot_LEAD"
   ]
  },
  {
   "cell_type": "code",
   "execution_count": null,
   "metadata": {
    "execution": {
     "iopub.execute_input": "2024-09-19T20:12:48.496543Z",
     "iopub.status.busy": "2024-09-19T20:12:48.495423Z",
     "iopub.status.idle": "2024-09-19T20:12:48.512564Z",
     "shell.execute_reply": "2024-09-19T20:12:48.511762Z"
    }
   },
   "outputs": [],
   "source": [
    "# Define the output folder path\n",
    "output_folder = os.path.join(path_arq, 'cubo_anl')\n",
    "\n",
    "# Create the folder if it doesn't exist\n",
    "os.makedirs(output_folder, exist_ok=True)\n",
    "\n",
    "# Export the JSON files\n",
    "json1 = abr_x_encerr.reset_index().drop(columns='index').to_json(os.path.join(output_folder, 'aberturas_encerrados.json'), orient='records', indent=4)\n",
    "json2 = pivot_complex.reset_index().drop(columns='index').to_json(os.path.join(output_folder, 'encerrados_complexidade.json'), orient='records', indent=4)\n",
    "json3 = pivot_ctm.reset_index().drop(columns='index').to_json(os.path.join(output_folder, 'senioridade_custo.json'), orient='records', indent=4)\n",
    "json4 = pivot_enc_sen.reset_index().drop(columns='index').to_json(os.path.join(output_folder, 'encerramento_senioridade.json'), orient='records', indent=4)\n",
    "json5 = pivot_LEAD.reset_index().drop(columns='index').to_json(os.path.join(output_folder, 'leadtime_mes_a_mes.json'), orient='records', indent=4)\n",
    "\n",
    "print(\"JSON files exported successfully.\")\n"
   ]
  }
 ],
 "metadata": {
  "kernelspec": {
   "display_name": "Python 3",
   "language": "python",
   "name": "python3"
  },
  "language_info": {
   "codemirror_mode": {
    "name": "ipython",
    "version": 3
   },
   "file_extension": ".py",
   "mimetype": "text/x-python",
   "name": "python",
   "nbconvert_exporter": "python",
   "pygments_lexer": "ipython3",
   "version": "3.12.1"
  }
 },
 "nbformat": 4,
 "nbformat_minor": 2
}
