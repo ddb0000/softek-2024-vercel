{
 "cells": [
  {
   "cell_type": "code",
   "execution_count": null,
   "metadata": {},
   "outputs": [],
   "source": [
    "import pandas as pd\n",
    "from datetime import datetime,timedelta\n",
    "import os\n",
    "from prophet import Prophet\n"
   ]
  },
  {
   "cell_type": "code",
   "execution_count": 9,
   "metadata": {},
   "outputs": [],
   "source": [
    "caminho = os.path.join('..', '..', 'db_softtek') \n",
    "path_arq = os.path.abspath(caminho)"
   ]
  },
  {
   "cell_type": "code",
   "execution_count": 10,
   "metadata": {},
   "outputs": [],
   "source": [
    "tbl_analitico_path = os.path.join(path_arq, 'cubo_anl', 'tbl_full_analitica.xlsx')\n",
    "tbl_ = pd.read_excel(tbl_analitico_path)\n"
   ]
  },
  {
   "cell_type": "code",
   "execution_count": 11,
   "metadata": {},
   "outputs": [],
   "source": [
    "tbl_2 = tbl_[['CHAMADO', 'DT_ABERTURA_CHAMADO', 'MODULO_CHAMADO', 'TIPO_CHAMADO', 'COMPLEXIDADE']]\n"
   ]
  },
  {
   "cell_type": "code",
   "execution_count": 12,
   "metadata": {},
   "outputs": [],
   "source": [
    "# Pega data minima da amostra:\n",
    "\n",
    "dt_max = tbl_2['DT_ABERTURA_CHAMADO'].astype('datetime64[ns]').max()\n",
    "dt_min = (dt_max - timedelta(days=20)).strftime('%Y-%m-%d')"
   ]
  },
  {
   "cell_type": "code",
   "execution_count": 13,
   "metadata": {},
   "outputs": [],
   "source": [
    "#Agrupando e contando volume de entradas por modulo, tipo e complexidade diariamente:\n",
    "df_agrupado = tbl_2.groupby(['DT_ABERTURA_CHAMADO']).agg({'CHAMADO':'count'}).reset_index().sort_values(['DT_ABERTURA_CHAMADO'])"
   ]
  },
  {
   "cell_type": "code",
   "execution_count": 14,
   "metadata": {},
   "outputs": [],
   "source": [
    "#Filtrando a partir da data minima:\n",
    "df_agrupado = df_agrupado[df_agrupado['DT_ABERTURA_CHAMADO']>= dt_min]\n",
    "df_agrupado['DT_ABERTURA_CHAMADO'] = df_agrupado['DT_ABERTURA_CHAMADO'].astype('datetime64[ns]')"
   ]
  },
  {
   "cell_type": "code",
   "execution_count": 15,
   "metadata": {},
   "outputs": [],
   "source": [
    "df_prophet = df_agrupado[['DT_ABERTURA_CHAMADO', 'CHAMADO']].rename(columns={'DT_ABERTURA_CHAMADO': 'ds', 'CHAMADO': 'y'})"
   ]
  },
  {
   "cell_type": "code",
   "execution_count": null,
   "metadata": {},
   "outputs": [],
   "source": [
    "model = Prophet(changepoint_prior_scale=0.5, seasonality_mode='additive')\n",
    "model.fit(df_prophet)"
   ]
  },
  {
   "cell_type": "code",
   "execution_count": null,
   "metadata": {},
   "outputs": [],
   "source": [
    "dt_max.strftime('%Y-%m-%d')"
   ]
  },
  {
   "cell_type": "code",
   "execution_count": null,
   "metadata": {},
   "outputs": [],
   "source": [
    "intervalo_datas = pd.date_range(start=dt_max, periods=30, freq='D')\n",
    "proximos_30_dias = intervalo_datas[intervalo_datas.weekday < 5][:30] \n",
    "\n",
    "previsao_futura = pd.DataFrame({'ds': proximos_30_dias})\n",
    "forecast = model.predict(previsao_futura)"
   ]
  },
  {
   "cell_type": "code",
   "execution_count": null,
   "metadata": {},
   "outputs": [],
   "source": [
    "# Filtrando as previsões a partir de 2024-04-02\n",
    "previsao_futura = forecast[forecast['ds'] > dt_max]\n",
    "\n",
    "# Exibindo as previsões para o período desejado\n",
    "previsao_futura = previsao_futura[['ds', 'yhat', 'yhat_lower', 'yhat_upper']]\n",
    "\n",
    "#criando ponderados que faz a média entre a média mais o desvio com a média prevista\n",
    "previsao_futura['previsao'] = round(previsao_futura['yhat'],0)"
   ]
  },
  {
   "cell_type": "code",
   "execution_count": null,
   "metadata": {},
   "outputs": [],
   "source": [
    "# Define the output folder for the model forecast\n",
    "output_folder_modelo = os.path.join(path_arq, 'modelo')\n",
    "\n",
    "# Create the output folder if it doesn't exist\n",
    "os.makedirs(output_folder_modelo, exist_ok=True)\n",
    "\n",
    "# Define the output file path for the forecast\n",
    "output_file_previsao = os.path.join(output_folder_modelo, 'Previsao_demandas.xlsx')\n",
    "\n",
    "# Save the forecast DataFrame to an Excel file (output)\n",
    "previsao_futura[['ds', 'previsao']].to_excel(output_file_previsao, index=False)\n",
    "\n",
    "print(f\"Forecast output saved to: {output_file_previsao}\")\n"
   ]
  }
 ],
 "metadata": {
  "kernelspec": {
   "display_name": "Python 3",
   "language": "python",
   "name": "python3"
  },
  "language_info": {
   "codemirror_mode": {
    "name": "ipython",
    "version": 3
   },
   "file_extension": ".py",
   "mimetype": "text/x-python",
   "name": "python",
   "nbconvert_exporter": "python",
   "pygments_lexer": "ipython3",
   "version": "3.12.1"
  }
 },
 "nbformat": 4,
 "nbformat_minor": 2
}
