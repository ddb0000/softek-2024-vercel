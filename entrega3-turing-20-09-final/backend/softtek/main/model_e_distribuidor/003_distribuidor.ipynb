{
 "cells": [
  {
   "cell_type": "code",
   "execution_count": 23,
   "metadata": {},
   "outputs": [],
   "source": [
    "import pandas as pd\n",
    "from itertools import cycle\n",
    "import shutil\n",
    "import os"
   ]
  },
  {
   "cell_type": "code",
   "execution_count": 16,
   "metadata": {},
   "outputs": [],
   "source": [
    "caminho = os.path.join('..', '..', 'db_softtek') \n",
    "path_arq = os.path.abspath(caminho) "
   ]
  },
  {
   "cell_type": "code",
   "execution_count": 17,
   "metadata": {},
   "outputs": [],
   "source": [
    "tbl_train_path = os.path.join(path_arq, 'modelo', 'Modelo_score_train.xlsx')\n",
    "tbl_test_path = os.path.join(path_arq, 'cubo_anl', 'tbl_full_analitica.xlsx')\n",
    "\n",
    "tbl_train = pd.read_excel(tbl_train_path)\n",
    "analistas_df = tbl_train"
   ]
  },
  {
   "cell_type": "code",
   "execution_count": 18,
   "metadata": {},
   "outputs": [],
   "source": [
    "# Load the test data (tbl_full_analitica.xlsx)\n",
    "tbl_test = pd.read_excel(tbl_test_path)\n",
    "\n",
    "# Filter out necessary columns from the test data (novos chamados)\n",
    "novos_chamados_df = tbl_test[['CHAMADO', 'DT_ABERTURA_CHAMADO', 'TIPO_CHAMADO', 'MODULO_CHAMADO', 'COMPLEXIDADE']].drop_duplicates(keep='first')\n"
   ]
  },
  {
   "cell_type": "code",
   "execution_count": null,
   "metadata": {},
   "outputs": [],
   "source": [
    "# Agrupar analistas por módulo e ordenar por rank\n",
    "analistas_por_modulo = analistas_df.sort_values(by=['MODULO_CHAMADO', 'rank']).groupby('MODULO_CHAMADO')\n",
    "\n",
    "# Criar iteradores rotativos para cada módulo\n",
    "iteradores = {modulo: cycle(grupo['IS'].tolist()) for modulo, grupo in analistas_por_modulo}\n",
    "\n",
    "# Função para distribuir chamados\n",
    "def distribuir_chamados(novos_chamados_df, iteradores):\n",
    "    alocacao = []\n",
    "    for _, chamado in novos_chamados_df.iterrows():\n",
    "        modulo = chamado['MODULO_CHAMADO']\n",
    "        if modulo in iteradores:\n",
    "            analista = next(iteradores[modulo])\n",
    "            alocacao.append(analista)\n",
    "        else:\n",
    "            alocacao.append(None)  # Caso não haja analistas para o módulo\n",
    "    return alocacao\n",
    "\n",
    "# Distribuir os novos chamados\n",
    "novos_chamados_df['IS'] = distribuir_chamados(novos_chamados_df[['TIPO_CHAMADO','MODULO_CHAMADO','COMPLEXIDADE']], iteradores)\n",
    "\n",
    "# Exibir a distribuição\n",
    "novos_chamados_df.sort_values(['TIPO_CHAMADO','MODULO_CHAMADO']).ffill()\n",
    "novos_chamados_df['ANOMES_ABERTURA'] = novos_chamados_df['DT_ABERTURA_CHAMADO'].str[0:4] + novos_chamados_df['DT_ABERTURA_CHAMADO'].str[5:7]\n",
    "\n",
    "\n",
    "# Criando Pivot Table para os gráficos:\n",
    "\n",
    "pivot_REDIST = novos_chamados_df.pivot_table(\n",
    "    index='ANOMES_ABERTURA',\n",
    "    columns='COMPLEXIDADE',\n",
    "    values='CHAMADO',\n",
    "    aggfunc='count'\n",
    ").reset_index().fillna(0)\n",
    "\n",
    "pivot_REDIST.columns.name = None\n",
    "\n",
    "pivot_REDIST = pivot_REDIST[pivot_REDIST['ANOMES_ABERTURA'] >= '202401']\n",
    "pivot_REDIST"
   ]
  },
  {
   "cell_type": "code",
   "execution_count": null,
   "metadata": {},
   "outputs": [],
   "source": [
    "# Output\n",
    "output_folder_modelo = os.path.join(path_arq, 'modelo')\n",
    "os.makedirs(output_folder_modelo, exist_ok=True)\n",
    "\n",
    "output_excel_path = os.path.join(output_folder_modelo, 'alocacao_recursos.xlsx')\n",
    "pivot_REDIST.to_excel(output_excel_path, index=False)\n",
    "print(f\"EXCEL salvo: {output_excel_path}\")\n",
    "\n",
    "output_json_path = os.path.join(output_folder_modelo, 'cubo3_alocacao_recursos.json')\n",
    "pivot_REDIST.reset_index().drop(columns='index').to_json(output_json_path, orient='records', indent=4)\n",
    "print(f\"JSON salvo: {output_json_path}\")"
   ]
  },
  {
   "cell_type": "code",
   "execution_count": null,
   "metadata": {},
   "outputs": [],
   "source": [
    "# Definir caminhos\n",
    "caminho_base = os.path.abspath(os.path.join('..', '..', 'db_softtek'))\n",
    "caminho_cubo_anl = os.path.join(caminho_base, 'cubo_anl')\n",
    "caminho_modelo = os.path.join(caminho_base, 'modelo')\n",
    "caminho_dados_frontend = os.path.abspath(os.path.join(os.path.dirname(__file__), '..', '..', '..', 'frontend', 'data'))\n",
    "\n",
    "# Garantir que o diretório de destino exista\n",
    "if not os.path.exists(caminho_dados_frontend):\n",
    "    print(f\"Criando diretório '{caminho_dados_frontend}'\\n\")\n",
    "    os.makedirs(caminho_dados_frontend)\n",
    "else:\n",
    "    print(f\"'{caminho_dados_frontend}' já existe\\n\")\n",
    "\n",
    "# Lista de arquivos JSON para copiar\n",
    "arquivos_json = [\n",
    "    'aberturas_encerrados.json',\n",
    "    'leadtime_mes_a_mes.json',\n",
    "    'encerrados_complexidade.json',\n",
    "    'senioridade_custo.json',\n",
    "    'encerramento_senioridade.json'\n",
    "]\n",
    "\n",
    "# Copiar arquivos JSON do diretório cubo_anl para a pasta de dados do frontend\n",
    "for nome_arquivo in arquivos_json:\n",
    "    origem = os.path.join(caminho_cubo_anl, nome_arquivo)\n",
    "    destino = os.path.join(caminho_dados_frontend, nome_arquivo)\n",
    "    if os.path.exists(origem):\n",
    "        try:\n",
    "            shutil.copy(origem, destino)\n",
    "            print(f\"'{nome_arquivo}' salvo: '{destino}'\\n\")\n",
    "        except Exception as e:\n",
    "            print(f\"Erro ao copiar '{nome_arquivo}': {e}\\n\")\n",
    "    else:\n",
    "        print(f\"Arquivo '{nome_arquivo}' não encontrado em {caminho_cubo_anl}\\n\")\n",
    "\n",
    "# Copiar e renomear o arquivo JSON específico\n",
    "origem_cubo3 = os.path.join(caminho_modelo, 'cubo3_alocacao_recursos.json')\n",
    "destino_cubo3 = os.path.join(caminho_dados_frontend, 'acompanhamento_da_redistribuicao.json')\n",
    "\n",
    "if os.path.exists(origem_cubo3):\n",
    "    try:\n",
    "        shutil.copy(origem_cubo3, destino_cubo3)\n",
    "        print(f\"'cubo3_alocacao_recursos.json' salvo: '{destino_cubo3}'\\n\")\n",
    "    except Exception as e:\n",
    "        print(f\"Erro ao copiar 'cubo3_alocacao_recursos.json': {e}\\n\")\n",
    "else:\n",
    "    print(f\"Arquivo 'cubo3_alocacao_recursos.json' não encontrado em {caminho_modelo}\\n\")\n",
    "\n",
    "print('Todos os arquivos processados.\\n')"
   ]
  },
  {
   "cell_type": "code",
   "execution_count": null,
   "metadata": {},
   "outputs": [],
   "source": [
    "# Salva o CSV com a alocação dos novos chamados para email_notif.ipynb\n",
    "csv_path = os.path.join(output_folder_modelo, 'novos_chamados.csv')\n",
    "novos_chamados_df.to_csv(csv_path, index=False)\n",
    "print(f\"CSV salvo: {csv_path}\")"
   ]
  }
 ],
 "metadata": {
  "kernelspec": {
   "display_name": "Python 3",
   "language": "python",
   "name": "python3"
  },
  "language_info": {
   "codemirror_mode": {
    "name": "ipython",
    "version": 3
   },
   "file_extension": ".py",
   "mimetype": "text/x-python",
   "name": "python",
   "nbconvert_exporter": "python",
   "pygments_lexer": "ipython3",
   "version": "3.12.1"
  }
 },
 "nbformat": 4,
 "nbformat_minor": 2
}
