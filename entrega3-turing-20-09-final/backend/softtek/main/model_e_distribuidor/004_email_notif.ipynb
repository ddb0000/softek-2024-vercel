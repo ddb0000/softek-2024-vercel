{
 "cells": [
  {
   "cell_type": "code",
   "execution_count": 3,
   "metadata": {},
   "outputs": [
    {
     "ename": "ModuleNotFoundError",
     "evalue": "No module named 'win32com'",
     "output_type": "error",
     "traceback": [
      "\u001b[0;31m---------------------------------------------------------------------------\u001b[0m",
      "\u001b[0;31mModuleNotFoundError\u001b[0m                       Traceback (most recent call last)",
      "Cell \u001b[0;32mIn[3], line 4\u001b[0m\n\u001b[1;32m      1\u001b[0m \u001b[38;5;28;01mimport\u001b[39;00m \u001b[38;5;21;01mpandas\u001b[39;00m \u001b[38;5;28;01mas\u001b[39;00m \u001b[38;5;21;01mpd\u001b[39;00m\n\u001b[1;32m      2\u001b[0m \u001b[38;5;28;01mimport\u001b[39;00m \u001b[38;5;21;01mos\u001b[39;00m\n\u001b[0;32m----> 4\u001b[0m \u001b[38;5;28;01mimport\u001b[39;00m \u001b[38;5;21;01mwin32com\u001b[39;00m\u001b[38;5;21;01m.\u001b[39;00m\u001b[38;5;21;01mclient\u001b[39;00m \u001b[38;5;28;01mas\u001b[39;00m \u001b[38;5;21;01mwin32\u001b[39;00m\n",
      "\u001b[0;31mModuleNotFoundError\u001b[0m: No module named 'win32com'"
     ]
    }
   ],
   "source": [
    "import pandas as pd\n",
    "import os\n",
    "\n",
    "import win32com.client as win32\n"
   ]
  },
  {
   "cell_type": "code",
   "execution_count": 6,
   "metadata": {},
   "outputs": [],
   "source": [
    "# Load\n",
    "base_dir = os.path.abspath(os.path.join('..', '..', 'db_softtek'))\n",
    "caminho_cubo_anl = os.path.join(base_dir, 'cubo_anl')\n",
    "caminho_modelo = os.path.join(base_dir, 'modelo')\n",
    "\n",
    "csv_file_name = 'novos_chamados.csv'\n",
    "csv_path = os.path.join(caminho_modelo, csv_file_name)\n",
    "\n",
    "novos_chamados_df = pd.read_csv(csv_path)\n"
   ]
  },
  {
   "cell_type": "code",
   "execution_count": 7,
   "metadata": {},
   "outputs": [
    {
     "ename": "NameError",
     "evalue": "name 'win32' is not defined",
     "output_type": "error",
     "traceback": [
      "\u001b[0;31m---------------------------------------------------------------------------\u001b[0m",
      "\u001b[0;31mNameError\u001b[0m                                 Traceback (most recent call last)",
      "Cell \u001b[0;32mIn[7], line 8\u001b[0m\n\u001b[1;32m      2\u001b[0m Chamados_por_consultor \u001b[38;5;241m=\u001b[39m novos_chamados_df\u001b[38;5;241m.\u001b[39mgroupby([\u001b[38;5;124m'\u001b[39m\u001b[38;5;124mIS\u001b[39m\u001b[38;5;124m'\u001b[39m])\u001b[38;5;241m.\u001b[39magg({\n\u001b[1;32m      3\u001b[0m     \u001b[38;5;124m'\u001b[39m\u001b[38;5;124mCHAMADO\u001b[39m\u001b[38;5;124m'\u001b[39m: \u001b[38;5;124m'\u001b[39m\u001b[38;5;124mcount\u001b[39m\u001b[38;5;124m'\u001b[39m,\n\u001b[1;32m      4\u001b[0m     \u001b[38;5;124m'\u001b[39m\u001b[38;5;124mTIPO_CHAMADO\u001b[39m\u001b[38;5;124m'\u001b[39m: \u001b[38;5;28;01mlambda\u001b[39;00m x: \u001b[38;5;124m'\u001b[39m\u001b[38;5;124m|\u001b[39m\u001b[38;5;124m'\u001b[39m\u001b[38;5;241m.\u001b[39mjoin(\u001b[38;5;28mset\u001b[39m(x))\n\u001b[1;32m      5\u001b[0m })\u001b[38;5;241m.\u001b[39mreset_index()\n\u001b[1;32m      7\u001b[0m \u001b[38;5;66;03m# Create an instance of Outlook\u001b[39;00m\n\u001b[0;32m----> 8\u001b[0m outlook \u001b[38;5;241m=\u001b[39m \u001b[43mwin32\u001b[49m\u001b[38;5;241m.\u001b[39mDispatch(\u001b[38;5;124m'\u001b[39m\u001b[38;5;124moutlook.application\u001b[39m\u001b[38;5;124m'\u001b[39m)\n\u001b[1;32m     10\u001b[0m \u001b[38;5;66;03m# Iterate over each consultant in the grouped DataFrame\u001b[39;00m\n\u001b[1;32m     11\u001b[0m \u001b[38;5;28;01mfor\u001b[39;00m index, row \u001b[38;5;129;01min\u001b[39;00m Chamados_por_consultor\u001b[38;5;241m.\u001b[39miterrows():\n",
      "\u001b[0;31mNameError\u001b[0m: name 'win32' is not defined"
     ]
    }
   ],
   "source": [
    "\n",
    "# Group by the 'IS' column and aggregate the number and type of calls\n",
    "Chamados_por_consultor = novos_chamados_df.groupby(['IS']).agg({\n",
    "    'CHAMADO': 'count',\n",
    "    'TIPO_CHAMADO': lambda x: '|'.join(set(x))\n",
    "}).reset_index()\n",
    "\n",
    "# Create an instance of Outlook\n",
    "outlook = win32.Dispatch('outlook.application')\n",
    "\n",
    "# Iterate over each consultant in the grouped DataFrame\n",
    "for index, row in Chamados_por_consultor.iterrows():\n",
    "    funcionario = row['IS']\n",
    "    qtd_chamados = row['CHAMADO']\n",
    "    tipos_chamados = row['TIPO_CHAMADO']\n",
    "\n",
    "    try:\n",
    "        # Create a new email\n",
    "        mail = outlook.CreateItem(0)\n",
    "        \n",
    "        # Set the recipient email (adjust as needed)\n",
    "        mail.To = f'{funcionario}@softtek.com.br'\n",
    "\n",
    "        # Set the subject of the email\n",
    "        mail.Subject = f'Atenção! Você está com {qtd_chamados} chamados para tratamento!'\n",
    "\n",
    "        # Set the body of the email\n",
    "        mail.Body = f\"\"\"\n",
    "        Olá {funcionario},\n",
    "\n",
    "        Você tem {qtd_chamados} chamado(s) pendente(s). Os tipos de chamados são os seguintes:\n",
    "\n",
    "        {tipos_chamados.replace('|', '\\n- ')}\n",
    "\n",
    "        Por favor, verifique e tome as medidas necessárias.\n",
    "\n",
    "        Atenciosamente,\n",
    "        Gestão\n",
    "        \"\"\"\n",
    "\n",
    "        # Send the email\n",
    "        mail.Send()\n",
    "\n",
    "    except Exception as e:\n",
    "        print(f'Falha ao enviar e-mail para {funcionario}@softtek.com.br Erro: {str(e)}')\n",
    "\n",
    "print('E-mails enviados com sucesso!')"
   ]
  }
 ],
 "metadata": {
  "kernelspec": {
   "display_name": "Python 3",
   "language": "python",
   "name": "python3"
  },
  "language_info": {
   "codemirror_mode": {
    "name": "ipython",
    "version": 3
   },
   "file_extension": ".py",
   "mimetype": "text/x-python",
   "name": "python",
   "nbconvert_exporter": "python",
   "pygments_lexer": "ipython3",
   "version": "3.12.1"
  }
 },
 "nbformat": 4,
 "nbformat_minor": 2
}
