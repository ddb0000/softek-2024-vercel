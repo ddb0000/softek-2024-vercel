{
 "cells": [
  {
   "cell_type": "code",
   "execution_count": 7,
   "metadata": {},
   "outputs": [],
   "source": [
    "import pandas as pd\n",
    "from datetime import datetime,timedelta\n",
    "from prophet import Prophet\n",
    "import os"
   ]
  },
  {
   "cell_type": "code",
   "execution_count": 8,
   "metadata": {},
   "outputs": [],
   "source": [
    "caminho = os.path.join('..', '..', 'db_softtek') \n",
    "path_arq = os.path.abspath(caminho)"
   ]
  },
  {
   "cell_type": "code",
   "execution_count": 9,
   "metadata": {},
   "outputs": [],
   "source": [
    "tbl_ = pd.read_excel(path_arq+'\\\\cubo_anl\\\\tbl_full_analitica.xlsx')\n",
    "tbl_2  = tbl_[['CHAMADO','DT_ABERTURA_CHAMADO','MODULO_CHAMADO','TIPO_CHAMADO','COMPLEXIDADE']]"
   ]
  },
  {
   "cell_type": "code",
   "execution_count": 10,
   "metadata": {},
   "outputs": [
    {
     "name": "stderr",
     "output_type": "stream",
     "text": [
      "C:\\Users\\andre\\AppData\\Local\\Temp\\ipykernel_10940\\193842085.py:2: SettingWithCopyWarning: \n",
      "A value is trying to be set on a copy of a slice from a DataFrame.\n",
      "Try using .loc[row_indexer,col_indexer] = value instead\n",
      "\n",
      "See the caveats in the documentation: https://pandas.pydata.org/pandas-docs/stable/user_guide/indexing.html#returning-a-view-versus-a-copy\n",
      "  tbl_2['DT_ABERTURA_CHAMADO'] = tbl_2['DT_ABERTURA_CHAMADO'].astype('datetime64[ns]').dt.strftime('%Y-%m-%d')\n"
     ]
    }
   ],
   "source": [
    "# Convertendo a coluna de data para o formato datetime\n",
    "tbl_2['DT_ABERTURA_CHAMADO'] = tbl_2['DT_ABERTURA_CHAMADO'].astype('datetime64[ns]').dt.strftime('%Y-%m-%d')"
   ]
  },
  {
   "cell_type": "code",
   "execution_count": 11,
   "metadata": {},
   "outputs": [],
   "source": [
    "# Pega data minima da amostra:\n",
    "\n",
    "dt_max = tbl_2['DT_ABERTURA_CHAMADO'].astype('datetime64[ns]').max()\n",
    "dt_min = (dt_max - timedelta(days=20)).strftime('%Y-%m-%d')"
   ]
  },
  {
   "cell_type": "code",
   "execution_count": 12,
   "metadata": {},
   "outputs": [],
   "source": [
    "#Agrupando e contando volume de entradas por modulo, tipo e complexidade diariamente:\n",
    "df_agrupado = tbl_2.groupby(['DT_ABERTURA_CHAMADO']).agg({'CHAMADO':'count'}).reset_index().sort_values(['DT_ABERTURA_CHAMADO'])"
   ]
  },
  {
   "cell_type": "code",
   "execution_count": 13,
   "metadata": {},
   "outputs": [],
   "source": [
    "#Filtrando a partir da data minima:\n",
    "df_agrupado = df_agrupado[df_agrupado['DT_ABERTURA_CHAMADO']>= dt_min]\n",
    "df_agrupado['DT_ABERTURA_CHAMADO'] = df_agrupado['DT_ABERTURA_CHAMADO'].astype('datetime64[ns]')"
   ]
  },
  {
   "cell_type": "code",
   "execution_count": 14,
   "metadata": {},
   "outputs": [],
   "source": [
    "df_prophet = df_agrupado[['DT_ABERTURA_CHAMADO', 'CHAMADO']].rename(columns={'DT_ABERTURA_CHAMADO': 'ds', 'CHAMADO': 'y'})"
   ]
  },
  {
   "cell_type": "code",
   "execution_count": 15,
   "metadata": {},
   "outputs": [
    {
     "name": "stderr",
     "output_type": "stream",
     "text": [
      "21:12:02 - cmdstanpy - INFO - Chain [1] start processing\n",
      "21:12:02 - cmdstanpy - INFO - Chain [1] done processing\n"
     ]
    },
    {
     "data": {
      "text/plain": [
       "<prophet.forecaster.Prophet at 0x14460387e60>"
      ]
     },
     "execution_count": 15,
     "metadata": {},
     "output_type": "execute_result"
    }
   ],
   "source": [
    "model = Prophet(changepoint_prior_scale=0.5, seasonality_mode='additive')\n",
    "model.fit(df_prophet)"
   ]
  },
  {
   "cell_type": "code",
   "execution_count": 16,
   "metadata": {},
   "outputs": [
    {
     "data": {
      "text/plain": [
       "'2024-04-01'"
      ]
     },
     "execution_count": 16,
     "metadata": {},
     "output_type": "execute_result"
    }
   ],
   "source": [
    "dt_max.strftime('%Y-%m-%d')"
   ]
  },
  {
   "cell_type": "code",
   "execution_count": 17,
   "metadata": {},
   "outputs": [],
   "source": [
    "intervalo_datas = pd.date_range(start=dt_max, periods=30, freq='D')\n",
    "proximos_30_dias = intervalo_datas[intervalo_datas.weekday < 5][:30] \n",
    "\n",
    "previsao_futura = pd.DataFrame({'ds': proximos_30_dias})\n",
    "forecast = model.predict(previsao_futura)"
   ]
  },
  {
   "cell_type": "code",
   "execution_count": 18,
   "metadata": {},
   "outputs": [],
   "source": [
    "# Filtrando as previsões a partir de 2024-04-02\n",
    "previsao_futura = forecast[forecast['ds'] > dt_max]\n",
    "\n",
    "# Exibindo as previsões para o período desejado\n",
    "previsao_futura = previsao_futura[['ds', 'yhat', 'yhat_lower', 'yhat_upper']]\n",
    "\n",
    "#criando ponderados que faz a média entre a média mais o desvio com a média prevista\n",
    "previsao_futura['previsao'] = round(previsao_futura['yhat'],0)"
   ]
  },
  {
   "cell_type": "code",
   "execution_count": 19,
   "metadata": {},
   "outputs": [],
   "source": [
    "previsao_futura[['ds','previsao']].to_excel(path_arq+'//modelo//Previsao_demandas.xlsx',index=False)"
   ]
  }
 ],
 "metadata": {
  "kernelspec": {
   "display_name": "Python 3",
   "language": "python",
   "name": "python3"
  },
  "language_info": {
   "codemirror_mode": {
    "name": "ipython",
    "version": 3
   },
   "file_extension": ".py",
   "mimetype": "text/x-python",
   "name": "python",
   "nbconvert_exporter": "python",
   "pygments_lexer": "ipython3",
   "version": "3.12.2"
  }
 },
 "nbformat": 4,
 "nbformat_minor": 2
}
