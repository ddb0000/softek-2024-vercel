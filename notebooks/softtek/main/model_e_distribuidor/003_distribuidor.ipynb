{
 "cells": [
  {
   "cell_type": "code",
   "execution_count": 1,
   "metadata": {},
   "outputs": [],
   "source": [
    "import pandas as pd\n",
    "from itertools import cycle\n",
    "import os"
   ]
  },
  {
   "cell_type": "code",
   "execution_count": 2,
   "metadata": {},
   "outputs": [],
   "source": [
    "caminho = os.path.join('..', '..', 'db_softtek') \n",
    "path_arq = os.path.abspath(caminho) \n",
    "tbl_ = '\\\\modelo\\\\Modelo_score_train.xlsx'"
   ]
  },
  {
   "cell_type": "code",
   "execution_count": 3,
   "metadata": {},
   "outputs": [],
   "source": [
    "#Tabela de treino:\n",
    "tbl_train = pd.read_excel(path_arq+tbl_)\n",
    "analistas_df = tbl_train"
   ]
  },
  {
   "cell_type": "code",
   "execution_count": 4,
   "metadata": {},
   "outputs": [],
   "source": [
    "#tabela novas demandas:\n",
    "\n",
    "tbl_test = pd.read_excel(path_arq+'\\\\cubo_anl\\\\tbl_full_analitica.xlsx')\n",
    "novos_chamados_df = tbl_test[['CHAMADO','DT_ABERTURA_CHAMADO','TIPO_CHAMADO','MODULO_CHAMADO','COMPLEXIDADE']].drop_duplicates(keep='first')"
   ]
  },
  {
   "cell_type": "code",
   "execution_count": 9,
   "metadata": {},
   "outputs": [],
   "source": [
    "# Agrupar analistas por módulo e ordenar por rank\n",
    "analistas_por_modulo = analistas_df.sort_values(by=['MODULO_CHAMADO', 'rank']).groupby('MODULO_CHAMADO')\n",
    "\n",
    "# Criar iteradores rotativos para cada módulo\n",
    "iteradores = {modulo: cycle(grupo['IS'].tolist()) for modulo, grupo in analistas_por_modulo}\n",
    "\n",
    "# Função para distribuir chamados\n",
    "def distribuir_chamados(novos_chamados_df, iteradores):\n",
    "    alocacao = []\n",
    "    for _, chamado in novos_chamados_df.iterrows():\n",
    "        modulo = chamado['MODULO_CHAMADO']\n",
    "        if modulo in iteradores:\n",
    "            analista = next(iteradores[modulo])\n",
    "            alocacao.append(analista)\n",
    "        else:\n",
    "            alocacao.append(None)  # Caso não haja analistas para o módulo\n",
    "    return alocacao\n",
    "\n",
    "\n",
    "\n",
    "# Distribuir os novos chamados\n",
    "novos_chamados_df['IS'] = distribuir_chamados(novos_chamados_df[['TIPO_CHAMADO','MODULO_CHAMADO','COMPLEXIDADE']], iteradores)\n",
    "\n",
    "# Exibir a distribuição\n",
    "novos_chamados_df.sort_values(['TIPO_CHAMADO','MODULO_CHAMADO']).ffill()\n",
    "novos_chamados_df['ANOMES_ABERTURA'] = novos_chamados_df['DT_ABERTURA_CHAMADO'].str[0:4] + novos_chamados_df['DT_ABERTURA_CHAMADO'].str[5:7]"
   ]
  },
  {
   "cell_type": "code",
   "execution_count": 10,
   "metadata": {},
   "outputs": [],
   "source": [
    "novos_chamados_df.to_excel(path_arq+'\\\\modelo\\\\alocacao_recursos.xlsx', index=False)\n",
    "\n",
    "novos_chamados_df.sort_values(['TIPO_CHAMADO','MODULO_CHAMADO']).ffill().reset_index().drop(columns='index').to_json(path_arq+'\\\\modelo\\\\cubo3_alocacao_recursos.json', orient='records', indent=4)"
   ]
  }
 ],
 "metadata": {
  "kernelspec": {
   "display_name": "Python 3",
   "language": "python",
   "name": "python3"
  },
  "language_info": {
   "codemirror_mode": {
    "name": "ipython",
    "version": 3
   },
   "file_extension": ".py",
   "mimetype": "text/x-python",
   "name": "python",
   "nbconvert_exporter": "python",
   "pygments_lexer": "ipython3",
   "version": "3.12.2"
  }
 },
 "nbformat": 4,
 "nbformat_minor": 2
}
