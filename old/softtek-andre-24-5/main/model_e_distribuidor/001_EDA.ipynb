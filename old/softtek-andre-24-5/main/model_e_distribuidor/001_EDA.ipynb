{
 "cells": [
  {
   "cell_type": "code",
   "execution_count": null,
   "metadata": {},
   "outputs": [],
   "source": [
    "import pandas as pd\n",
    "import os\n",
    "import matplotlib.pyplot as plt\n"
   ]
  },
  {
   "cell_type": "code",
   "execution_count": null,
   "metadata": {},
   "outputs": [],
   "source": [
    "caminho = os.path.join('..', '..', 'db_softtek') \n",
    "path_arq = os.path.abspath(caminho)"
   ]
  },
  {
   "cell_type": "code",
   "execution_count": null,
   "metadata": {},
   "outputs": [],
   "source": [
    "tbl_anl = pd.read_excel(path_arq+'\\\\cubo_anl\\\\tbl_full_analitica.xlsx')"
   ]
  },
  {
   "cell_type": "code",
   "execution_count": null,
   "metadata": {},
   "outputs": [],
   "source": [
    "#verificando se há valores nulos no data set:\n",
    "\n",
    "tbl_anl.isnull().sum()"
   ]
  },
  {
   "cell_type": "code",
   "execution_count": null,
   "metadata": {},
   "outputs": [],
   "source": [
    "tbl_anl.dtypes"
   ]
  },
  {
   "cell_type": "code",
   "execution_count": null,
   "metadata": {},
   "outputs": [],
   "source": [
    "# tipando campos necessários:\n",
    "\n",
    "tbl_anl['VALOR CONTRATO'] = tbl_anl['VALOR CONTRATO'].astype(float)"
   ]
  },
  {
   "cell_type": "code",
   "execution_count": null,
   "metadata": {},
   "outputs": [],
   "source": [
    "tbl_anl.describe()"
   ]
  },
  {
   "cell_type": "code",
   "execution_count": null,
   "metadata": {},
   "outputs": [],
   "source": [
    "## Regras de negócio:\n",
    "\n",
    "# 1 - Melhorar eficiencia em horas do volume de tratativas\n",
    "# 2 - Melhorar a distribuição de demandas de acordo com o capacity de cada operador\n",
    "# 3 - Melhorar a relação de custos de acordo com o capacity"
   ]
  },
  {
   "cell_type": "code",
   "execution_count": null,
   "metadata": {},
   "outputs": [],
   "source": [
    "\n",
    "tbl_anl.HORAS.plot(kind='box')\n",
    "plt.title('Boxplot para a variavel horas')\n",
    "plt.ylabel('tempo em horas')\n",
    "plt.show()"
   ]
  },
  {
   "cell_type": "code",
   "execution_count": null,
   "metadata": {},
   "outputs": [],
   "source": [
    "# Solução para variável horas: Dividir em grupos de forma categorizada\n",
    "\n",
    "\n",
    "# Função que verificaa o intervalo e retornar a marcação correspondente:\n",
    "\n",
    "def verifica_intervalo(valor):\n",
    "    if 0 < valor <= 2:\n",
    "        return 'MAIOR que 0 e MENOR OU IGUAL a 2' # media\n",
    "    elif 2 < valor <= 4:\n",
    "        return 'MAIOR que 2 e MENOR OU IGUAL a 4' # media superior\n",
    "    elif 4 < valor <= 6:\n",
    "        return 'MAIOR que 4 e MENOR OU IGUAL a 6' # cauda\n",
    "    elif valor > 6:\n",
    "        return 'MAIOR que 6' # Outliers\n",
    "    else:\n",
    "        return 'fora dos intervalos' # dados invalidos\n",
    "\n",
    "\n",
    "tbl_anl['intervalo_horas']= tbl_anl['HORAS'].apply(verifica_intervalo)"
   ]
  },
  {
   "cell_type": "code",
   "execution_count": null,
   "metadata": {},
   "outputs": [],
   "source": [
    "# validação da marcação:\n",
    "\n",
    "tbl_anl[['HORAS','intervalo_horas']]"
   ]
  },
  {
   "cell_type": "code",
   "execution_count": null,
   "metadata": {},
   "outputs": [],
   "source": [
    "tbl_anl.VALOR_AT.plot(kind='hist',bins=10)\n",
    "plt.axvline(tbl_anl.VALOR_AT.quantile(q=0.025), c='r')\n",
    "plt.axvline(tbl_anl.VALOR_AT.quantile(q=0.975), c='r')    \n",
    "plt.title('Histograma da variavel de Custos')"
   ]
  },
  {
   "cell_type": "code",
   "execution_count": null,
   "metadata": {},
   "outputs": [],
   "source": [
    "## Conclusão do histograma de valores: \n",
    "\n",
    "# Frequencia de valores acima de 97,5% é muito pequena (pode ser tratado de outra forma no modelo)"
   ]
  },
  {
   "cell_type": "code",
   "execution_count": null,
   "metadata": {},
   "outputs": [],
   "source": [
    "tbl_consultor = tbl_anl[tbl_anl['STATUS_CHAMADO'] == 'Closed']\n",
    "tbl_consultor = tbl_consultor.groupby(['IS','MODULO_CHAMADO','TIPO_CHAMADO','MODULO_CustosNSULTOR','COMPLEXIDADE','SENIORIDADE']).agg(\n",
    "    {'HORAS':'min','VALOR_AT':'min','CHAMADO':'count'}).reset_index()"
   ]
  },
  {
   "cell_type": "code",
   "execution_count": null,
   "metadata": {},
   "outputs": [],
   "source": [
    "tbl_consultor2 = tbl_consultor.groupby(['TIPO_CHAMADO','MODULO_CHAMADO','COMPLEXIDADE','IS','SENIORIDADE']).agg({'CHAMADO':'mean','HORAS':'min',\n",
    "                                                                                         'VALOR_AT':'min'}).reset_index().sort_values(\n",
    "                                                                                             ['TIPO_CHAMADO', 'MODULO_CHAMADO','COMPLEXIDADE',\n",
    "                                                                                             'CHAMADO','HORAS','VALOR_AT'],\n",
    "                                                                                               ascending=[True,True, True, False,True,True]\n",
    "                                                                                               )\n",
    "tbl_consultor2"
   ]
  },
  {
   "cell_type": "code",
   "execution_count": null,
   "metadata": {},
   "outputs": [],
   "source": [
    "# Normalizando as métricas de forma linear ponderada\n",
    "\n",
    "tbl_consultor2['volume_normalizado'] = tbl_consultor2['CHAMADO'] / tbl_consultor2['CHAMADO'].max()\n",
    "\n",
    "# Invertendo a normalização para que menor valor de horas por chamado seja melhor\n",
    "tbl_consultor2['horas_normalizado'] = 1 - (tbl_consultor2['HORAS'] / tbl_consultor2['HORAS'].max())\n",
    "\n",
    "# Invertendo a normalização para que menor valor de custo por chamado seja melhor\n",
    "tbl_consultor2['custo_normalizado'] = 1 - (tbl_consultor2['VALOR_AT'] / tbl_consultor2['VALOR_AT'].max())"
   ]
  },
  {
   "cell_type": "code",
   "execution_count": null,
   "metadata": {},
   "outputs": [],
   "source": [
    "# Definindo os pesos para cada métrica:\n",
    "\n",
    "peso_volume = 0.5\n",
    "peso_horas = 0.3\n",
    "peso_custo = 0.2"
   ]
  },
  {
   "cell_type": "code",
   "execution_count": null,
   "metadata": {},
   "outputs": [],
   "source": [
    "# Calculando o score de eficiência combinando os valores ponderados\n",
    "tbl_consultor2['score_eficiencia'] = (\n",
    "    (tbl_consultor2['volume_normalizado'] * peso_volume) + \n",
    "    (tbl_consultor2['horas_normalizado'] * peso_horas) + \n",
    "    (tbl_consultor2['custo_normalizado'] * peso_custo)\n",
    ")"
   ]
  },
  {
   "cell_type": "code",
   "execution_count": null,
   "metadata": {},
   "outputs": [],
   "source": [
    "tbl_consultor3 = tbl_consultor2[['TIPO_CHAMADO', 'MODULO_CHAMADO','COMPLEXIDADE','IS','score_eficiencia','CHAMADO','SENIORIDADE']]\n",
    "tbl_consultor3['rank'] = tbl_consultor3.groupby(['TIPO_CHAMADO', 'MODULO_CHAMADO','COMPLEXIDADE'])['score_eficiencia'].rank(ascending=False, method='dense')\n",
    "tbl_consultor3.sort_values(['TIPO_CHAMADO', 'MODULO_CHAMADO','COMPLEXIDADE','rank'], inplace=True)\n",
    "\n",
    "tbl_consultor3.head(50)"
   ]
  },
  {
   "cell_type": "code",
   "execution_count": null,
   "metadata": {},
   "outputs": [],
   "source": [
    "''' Saída do modelo de score: '''\n",
    "\n",
    "tbl_consultor4 = tbl_consultor3.groupby(['TIPO_CHAMADO','MODULO_CHAMADO','COMPLEXIDADE','IS']).agg({'rank':'min','score_eficiencia':'max'}).reset_index().sort_values(['TIPO_CHAMADO', 'MODULO_CHAMADO','COMPLEXIDADE','IS','rank']).drop_duplicates(subset='IS',keep='first')\n",
    "tbl_consultor4.to_excel(path_arq+'\\\\modelo\\\\Modelo_score_train.xlsx',index=False)"
   ]
  },
  {
   "cell_type": "code",
   "execution_count": null,
   "metadata": {},
   "outputs": [],
   "source": [
    "tbl_consultor4.sort_values(['TIPO_CHAMADO','MODULO_CHAMADO','COMPLEXIDADE','rank'])"
   ]
  },
  {
   "cell_type": "code",
   "execution_count": null,
   "metadata": {},
   "outputs": [],
   "source": []
  }
 ],
 "metadata": {
  "kernelspec": {
   "display_name": "Python 3",
   "language": "python",
   "name": "python3"
  },
  "language_info": {
   "codemirror_mode": {
    "name": "ipython",
    "version": 3
   },
   "file_extension": ".py",
   "mimetype": "text/x-python",
   "name": "python",
   "nbconvert_exporter": "python",
   "pygments_lexer": "ipython3",
   "version": "3.12.2"
  }
 },
 "nbformat": 4,
 "nbformat_minor": 2
}
