{
 "cells": [
  {
   "cell_type": "code",
   "execution_count": null,
   "metadata": {},
   "outputs": [],
   "source": [
    "import pandas as pd\n",
    "import os"
   ]
  },
  {
   "cell_type": "code",
   "execution_count": null,
   "metadata": {},
   "outputs": [],
   "source": [
    "caminho = os.path.join('..', '..', 'db_softtek') \n",
    "path_arq = os.path.abspath(caminho) \n",
    "db_analitico = '\\\\cubo_anl\\\\tbl_full_analitica.xlsx'"
   ]
  },
  {
   "cell_type": "code",
   "execution_count": null,
   "metadata": {},
   "outputs": [],
   "source": [
    "# Carrega tabela de demandas:\n",
    "tbl_anl = pd.read_excel(path_arq+db_analitico, dtype='string').drop_duplicates()"
   ]
  },
  {
   "cell_type": "code",
   "execution_count": null,
   "metadata": {},
   "outputs": [],
   "source": [
    "#funções genéricas:\n",
    "\n",
    "\n",
    "#Função anomes:\n",
    "def calcul_anomes(df,campo_data):\n",
    "    if campo_data == 'DT_ABERTURA_CHAMADO':\n",
    "        nova_coluna = 'ANOMES_ABERTURA'\n",
    "        df[nova_coluna] = df['DT_ABERTURA_CHAMADO'].astype(str).str[0:4] + df['DT_ABERTURA_CHAMADO'].astype(str).str[5:7]\n",
    "    else:\n",
    "        nova_coluna = 'ANOMES_STATUS'\n",
    "        df[nova_coluna] = df['DT_STATUS_CHAMADO'].astype(str).str[0:4] + df['DT_STATUS_CHAMADO'].astype(str).str[5:7]\n",
    "\n",
    "    return df\n",
    "\n",
    "#Função calculo Leadtime de atendimento:\n",
    "def coluna_leadtime(dias):\n",
    "    if dias == '0 days':\n",
    "        return 'D0'\n",
    "    if dias == '1 days':\n",
    "        return 'D1'\n",
    "    elif dias == '2 days':\n",
    "        return 'D2'\n",
    "    elif dias == '3 days':\n",
    "        return 'D3'\n",
    "    elif dias == '4 days':\n",
    "        return 'D4'\n",
    "    else:\n",
    "        return 'D5+'"
   ]
  },
  {
   "cell_type": "code",
   "execution_count": null,
   "metadata": {},
   "outputs": [],
   "source": [
    "#Campo de data abertura do chamado:\n",
    "tbl_anl['DT_ABERTURA_CHAMADO'] = tbl_anl['DT_ABERTURA_CHAMADO'].astype('datetime64[ns]').dt.strftime(\"%Y-%m-%d\")\n",
    "\n",
    "#Campo de data status do Chamado:\n",
    "\n",
    "tbl_anl['DT_STATUS_CHAMADO'] = tbl_anl['EXERCICIO']+\"-\"+tbl_anl['PERIODO'].str.zfill(2)+\"-\"+tbl_anl['DIA'].str.zfill(2)\n",
    "tbl_anl['DT_STATUS_CHAMADO'] = tbl_anl['DT_STATUS_CHAMADO'].astype('datetime64[ns]').dt.strftime(\"%Y-%m-%d\")\n",
    "\n",
    "\n",
    "# Calcula anomes \n",
    "tbl_anl = calcul_anomes(tbl_anl,'DT_ABERTURA_CHAMADO')\n",
    "tbl_anl = calcul_anomes(tbl_anl,'DT_STATUS_CHAMADO')\n",
    "tbl_anl = tbl_anl.sort_values(['CHAMADO','DT_ABERTURA_CHAMADO','DT_STATUS_CHAMADO'])\n",
    "\n",
    "# Criando campos de LeadTime:\n",
    "tbl_anl['LEADTIME_CHAMADO'] = tbl_anl['DT_STATUS_CHAMADO'].astype('datetime64[ns]') - tbl_anl['DT_ABERTURA_CHAMADO'].astype('datetime64[ns]')\n",
    "tbl_anl['LEADTIME_CALCULADO'] = tbl_anl['LEADTIME_CHAMADO'].astype(str).apply(coluna_leadtime)\n",
    "\n",
    "\n"
   ]
  },
  {
   "cell_type": "code",
   "execution_count": null,
   "metadata": {},
   "outputs": [],
   "source": [
    "# Indicador de volume de demandas distintas:\n",
    "tbl_anl_abert = tbl_anl.drop_duplicates(subset=['CHAMADO','DIA','CONSULTOR'], keep='first')\n",
    "tbl_anl_abert = tbl_anl[['ANOMES_ABERTURA','SENIORIDADE','MODULO_CustosNSULTOR','CHAMADO']].groupby(['ANOMES_ABERTURA','SENIORIDADE','MODULO_CustosNSULTOR']).agg({'CHAMADO':'count'}).reset_index()\n",
    "tbl_anl_abert['INDICADOR'] = 'ABERTURAS'\n",
    "\n",
    "tbl_anl_abert.rename(columns={'MODULO_CustosNSULTOR':'ATRIBUTO','ANOMES_ABERTURA':'ANOMES_REF',\n",
    "                              'SENIORIDADE':'ATRIBUTO2'}, inplace=True)\n",
    "tbl_anl_abert.head(5)"
   ]
  },
  {
   "cell_type": "code",
   "execution_count": null,
   "metadata": {},
   "outputs": [],
   "source": [
    "tbl_anl = tbl_anl.drop_duplicates(subset=['CHAMADO','DIA','CONSULTOR'], keep='last')"
   ]
  },
  {
   "cell_type": "code",
   "execution_count": null,
   "metadata": {},
   "outputs": [],
   "source": [
    "tbl_anl_pendentes = tbl_anl[tbl_anl['STATUS_CHAMADO'] !='Closed']\n",
    "tbl_anl_pendentes = tbl_anl_pendentes[['ANOMES_ABERTURA','SENIORIDADE','COMPLEXIDADE','CHAMADO']].groupby(['ANOMES_ABERTURA','SENIORIDADE','COMPLEXIDADE']).agg({'CHAMADO':'count'}).reset_index()\n",
    "tbl_anl_pendentes['INDICADOR'] = 'PENDENTE'\n",
    "tbl_anl_pendentes.rename(columns={'COMPLEXIDADE':'ATRIBUTO','ANOMES_ABERTURA':'ANOMES_REF',\n",
    "                              'SENIORIDADE':'ATRIBUTO2'}, inplace=True)\n",
    "tbl_anl_pendentes.head(5)"
   ]
  },
  {
   "cell_type": "code",
   "execution_count": null,
   "metadata": {},
   "outputs": [],
   "source": [
    "tbl_anl_encerr = tbl_anl[tbl_anl['STATUS_CHAMADO'] =='Closed']\n",
    "tbl_anl_encerr = tbl_anl_encerr[['ANOMES_STATUS','SENIORIDADE','MODULO_CustosNSULTOR','CHAMADO']].groupby(['ANOMES_STATUS','SENIORIDADE','MODULO_CustosNSULTOR']).agg({'CHAMADO':'count'}).reset_index()\n",
    "tbl_anl_encerr['INDICADOR'] = 'ENCERRAMENTO'\n",
    "tbl_anl_encerr.rename(columns={'MODULO_CustosNSULTOR':'ATRIBUTO','ANOMES_STATUS':'ANOMES_REF',\n",
    "                              'SENIORIDADE':'ATRIBUTO2'}, inplace=True)\n",
    "tbl_anl_encerr.head(5)"
   ]
  },
  {
   "cell_type": "code",
   "execution_count": null,
   "metadata": {},
   "outputs": [],
   "source": [
    "tbl_anl_long = tbl_anl[tbl_anl['STATUS_CHAMADO'] =='Closed']\n",
    "tbl_anl_long = tbl_anl_long[['ANOMES_STATUS','LEADTIME_CALCULADO','MODULO_CustosNSULTOR','CHAMADO']].groupby(['ANOMES_STATUS','LEADTIME_CALCULADO','MODULO_CustosNSULTOR']).agg({'CHAMADO':'count'}).reset_index()\n",
    "tbl_anl_long['INDICADOR'] = 'LEADTIME'\n",
    "tbl_anl_long.rename(columns={'MODULO_CustosNSULTOR':'ATRIBUTO','ANOMES_STATUS':'ANOMES_REF',\n",
    "                              'LEADTIME_CALCULADO':'ATRIBUTO2'}, inplace=True)\n",
    "tbl_anl_long.head(50)"
   ]
  },
  {
   "cell_type": "code",
   "execution_count": null,
   "metadata": {},
   "outputs": [],
   "source": [
    "tbl_anl_complex = tbl_anl[tbl_anl['STATUS_CHAMADO'] =='Closed']\n",
    "tbl_anl_complex = tbl_anl_complex[['ANOMES_STATUS','SENIORIDADE','COMPLEXIDADE','CHAMADO']].groupby(['ANOMES_STATUS','SENIORIDADE','COMPLEXIDADE']).agg({'CHAMADO':'count'}).reset_index()\n",
    "tbl_anl_complex['INDICADOR'] = 'COMPLEXIDADE_VOL'\n",
    "tbl_anl_complex.rename(columns={'COMPLEXIDADE':'ATRIBUTO','ANOMES_STATUS':'ANOMES_REF',\n",
    "                              'SENIORIDADE':'ATRIBUTO2'}, inplace=True)\n",
    "tbl_anl_complex.head(5)"
   ]
  },
  {
   "cell_type": "code",
   "execution_count": null,
   "metadata": {},
   "outputs": [],
   "source": [
    "tbl_anl_cargo_VOL = tbl_anl[['ANOMES_STATUS','SENIORIDADE','CHAMADO','MODULO_CustosNSULTOR']].groupby(['ANOMES_STATUS','SENIORIDADE','MODULO_CustosNSULTOR']).agg({'CHAMADO':'count'}).reset_index()\n",
    "tbl_anl_cargo_VOL.rename(columns={'MODULO_CustosNSULTOR':'ATRIBUTO','ANOMES_STATUS':'ANOMES_REF',\n",
    "                              'LEADTIME_CALCULADO':'ATRIBUTO2'}, inplace=True)\n",
    "tbl_anl_cargo_VOL['INDICADOR'] = 'VOLUMETRIA CARGO'\n",
    "\n",
    "\n",
    "tbl_anl_cargo_tma = tbl_anl[['ANOMES_STATUS','SENIORIDADE','COMPLEXIDADE','HORAS','VALOR_AT','CONSULTOR']].drop_duplicates()\n",
    "tbl_anl_cargo_tma['HORAS'] = round(tbl_anl_cargo_tma['HORAS'].astype('float'),2)\n",
    "tbl_anl_cargo_tma['VALOR_AT'] = round(tbl_anl_cargo_tma['VALOR_AT'].astype('float'),2)\n",
    "\n",
    "tbl_anl_cargo_tma = tbl_anl_cargo_tma.groupby(['ANOMES_STATUS','SENIORIDADE','COMPLEXIDADE']).agg({'HORAS':'mean', 'VALOR_AT':'mean'}).reset_index()\n",
    "tbl_anl_cargo_tma.head(5)"
   ]
  },
  {
   "cell_type": "code",
   "execution_count": null,
   "metadata": {},
   "outputs": [],
   "source": [
    "path_arq"
   ]
  },
  {
   "cell_type": "code",
   "execution_count": null,
   "metadata": {},
   "outputs": [],
   "source": [
    "cubo_1 = pd.concat([tbl_anl_abert,tbl_anl_encerr,tbl_anl_long,tbl_anl_pendentes,tbl_anl_complex,tbl_anl_cargo_VOL], axis=0)\n",
    "cubo_1.to_excel(path_arq+'\\\\cubo_anl\\\\cubo1_consolidado.xlsx', index=False)"
   ]
  },
  {
   "cell_type": "code",
   "execution_count": null,
   "metadata": {},
   "outputs": [],
   "source": [
    "tbl_anl_cargo_tma.to_excel(path_arq+'\\\\cubo_anl\\\\cubo2_consolidado.xlsx', index=False)"
   ]
  }
 ],
 "metadata": {
  "kernelspec": {
   "display_name": "Python 3",
   "language": "python",
   "name": "python3"
  },
  "language_info": {
   "codemirror_mode": {
    "name": "ipython",
    "version": 3
   },
   "file_extension": ".py",
   "mimetype": "text/x-python",
   "name": "python",
   "nbconvert_exporter": "python",
   "pygments_lexer": "ipython3",
   "version": "3.12.2"
  }
 },
 "nbformat": 4,
 "nbformat_minor": 2
}
